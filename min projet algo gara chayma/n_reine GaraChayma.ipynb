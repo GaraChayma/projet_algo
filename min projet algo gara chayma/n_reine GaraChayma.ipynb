{
 "cells": [
  {
   "cell_type": "markdown",
   "metadata": {},
   "source": [
    "<center> <font color=\"red\"size=30> Probleme de n dames1ere méthode</font></center> "
   ]
  },
  {
   "cell_type": "code",
   "execution_count": 1,
   "metadata": {},
   "outputs": [],
   "source": [
    "def reine(array):\n",
    "    def __reine(array, size):\n",
    "        if size == 1:\n",
    "            yield array\n",
    "        else:\n",
    "            for i in range(size):\n",
    "                for p in  __reine(array, size - 1):\n",
    "                    yield p\n",
    "                if size % 2 == 0:\n",
    "                    array[i], array[size - 1] = array[size - 1], array[i]\n",
    "                else:\n",
    "                    array[0], array[size - 1] = array[size - 1], array[0]\n",
    "\n",
    "    return __reine(array, len(array))"
   ]
  },
  {
   "cell_type": "code",
   "execution_count": 2,
   "metadata": {},
   "outputs": [],
   "source": [
    "def is_safe(reine):\n",
    "    size = len(reine)\n",
    "    for i in range(size):\n",
    "        for j in range(i + 1, size):\n",
    "            if abs(reine[i] - reine[j]) == abs(i - j):\n",
    "                return False\n",
    "    return True"
   ]
  },
  {
   "cell_type": "code",
   "execution_count": 3,
   "metadata": {},
   "outputs": [],
   "source": [
    "def Placer_reine(board_size):\n",
    "    from itertools import permutations\n",
    "    solutions = []\n",
    "    for reine in permutations(range(board_size)):\n",
    "        if is_safe(reine):\n",
    "            solutions.append(reine)\n",
    "    return solutions"
   ]
  },
  {
   "cell_type": "code",
   "execution_count": 4,
   "metadata": {},
   "outputs": [
    {
     "name": "stdout",
     "output_type": "stream",
     "text": [
      "+--+--+--+--+\n",
      "|0 |1 |0 |0 |\n",
      "+--+--+--+--+\n",
      "|0 |0 |0 |1 |\n",
      "+--+--+--+--+\n",
      "|1 |0 |0 |0 |\n",
      "+--+--+--+--+\n",
      "|0 |0 |1 |0 |\n",
      "+--+--+--+--+\n",
      "\n",
      "+--+--+--+--+\n",
      "|0 |0 |1 |0 |\n",
      "+--+--+--+--+\n",
      "|1 |0 |0 |0 |\n",
      "+--+--+--+--+\n",
      "|0 |0 |0 |1 |\n",
      "+--+--+--+--+\n",
      "|0 |1 |0 |0 |\n",
      "+--+--+--+--+\n",
      "\n",
      "Found 2 solutions\n"
     ]
    }
   ],
   "source": [
    "def print_solutions(solutions, board_size):\n",
    "    separator = '+--' * board_size + '+'\n",
    "    for solution in solutions:\n",
    "        for column in solution:\n",
    "            print (separator)\n",
    "            print ('|0 ' * column + '|1 |' + '0 |' * (board_size - 1 - column))\n",
    "        print (separator)\n",
    "        print(\"\")\n",
    "    print (\"Found\", len(solutions), \"solutions\")\n",
    "\n",
    "\n",
    "size =4\n",
    "solutions = Placer_reine(size)\n",
    "print_solutions(solutions, size)"
   ]
  },
  {
   "cell_type": "markdown",
   "metadata": {},
   "source": [
    "<center> <font color=\"red\"size=30> Probleme de n dames 2eme méthode</font></center> "
   ]
  },
  {
   "cell_type": "code",
   "execution_count": 2,
   "metadata": {},
   "outputs": [],
   "source": [
    "def recherche_reine(col, queens):\n",
    "    line = len(queens)\n",
    "    return (not col in queens and\n",
    "            not any(abs(col - x) == line - i for i,x in enumerate(queens)))"
   ]
  },
  {
   "cell_type": "code",
   "execution_count": 3,
   "metadata": {},
   "outputs": [],
   "source": [
    "def Placer_reine(n):\n",
    "    # Initialisation des solutions pour une taille 0 (tableau contenant un tableau vide)\n",
    "    solutions = [ [] ]\n",
    "    for row in range(n):\n",
    "        solutions = [solution + [i] for solution in solutions\n",
    "                                    for i in range(n)\n",
    "                                    if recherche_reine(i, solution)]\n",
    "    return solutions"
   ]
  },
  {
   "cell_type": "code",
   "execution_count": 4,
   "metadata": {},
   "outputs": [
    {
     "data": {
      "text/plain": [
       "[[0, 4, 7, 5, 2, 6, 1, 3],\n",
       " [0, 5, 7, 2, 6, 3, 1, 4],\n",
       " [0, 6, 3, 5, 7, 1, 4, 2],\n",
       " [0, 6, 4, 7, 1, 3, 5, 2],\n",
       " [1, 3, 5, 7, 2, 0, 6, 4],\n",
       " [1, 4, 6, 0, 2, 7, 5, 3],\n",
       " [1, 4, 6, 3, 0, 7, 5, 2],\n",
       " [1, 5, 0, 6, 3, 7, 2, 4],\n",
       " [1, 5, 7, 2, 0, 3, 6, 4],\n",
       " [1, 6, 2, 5, 7, 4, 0, 3],\n",
       " [1, 6, 4, 7, 0, 3, 5, 2],\n",
       " [1, 7, 5, 0, 2, 4, 6, 3],\n",
       " [2, 0, 6, 4, 7, 1, 3, 5],\n",
       " [2, 4, 1, 7, 0, 6, 3, 5],\n",
       " [2, 4, 1, 7, 5, 3, 6, 0],\n",
       " [2, 4, 6, 0, 3, 1, 7, 5],\n",
       " [2, 4, 7, 3, 0, 6, 1, 5],\n",
       " [2, 5, 1, 4, 7, 0, 6, 3],\n",
       " [2, 5, 1, 6, 0, 3, 7, 4],\n",
       " [2, 5, 1, 6, 4, 0, 7, 3],\n",
       " [2, 5, 3, 0, 7, 4, 6, 1],\n",
       " [2, 5, 3, 1, 7, 4, 6, 0],\n",
       " [2, 5, 7, 0, 3, 6, 4, 1],\n",
       " [2, 5, 7, 0, 4, 6, 1, 3],\n",
       " [2, 5, 7, 1, 3, 0, 6, 4],\n",
       " [2, 6, 1, 7, 4, 0, 3, 5],\n",
       " [2, 6, 1, 7, 5, 3, 0, 4],\n",
       " [2, 7, 3, 6, 0, 5, 1, 4],\n",
       " [3, 0, 4, 7, 1, 6, 2, 5],\n",
       " [3, 0, 4, 7, 5, 2, 6, 1],\n",
       " [3, 1, 4, 7, 5, 0, 2, 6],\n",
       " [3, 1, 6, 2, 5, 7, 0, 4],\n",
       " [3, 1, 6, 2, 5, 7, 4, 0],\n",
       " [3, 1, 6, 4, 0, 7, 5, 2],\n",
       " [3, 1, 7, 4, 6, 0, 2, 5],\n",
       " [3, 1, 7, 5, 0, 2, 4, 6],\n",
       " [3, 5, 0, 4, 1, 7, 2, 6],\n",
       " [3, 5, 7, 1, 6, 0, 2, 4],\n",
       " [3, 5, 7, 2, 0, 6, 4, 1],\n",
       " [3, 6, 0, 7, 4, 1, 5, 2],\n",
       " [3, 6, 2, 7, 1, 4, 0, 5],\n",
       " [3, 6, 4, 1, 5, 0, 2, 7],\n",
       " [3, 6, 4, 2, 0, 5, 7, 1],\n",
       " [3, 7, 0, 2, 5, 1, 6, 4],\n",
       " [3, 7, 0, 4, 6, 1, 5, 2],\n",
       " [3, 7, 4, 2, 0, 6, 1, 5],\n",
       " [4, 0, 3, 5, 7, 1, 6, 2],\n",
       " [4, 0, 7, 3, 1, 6, 2, 5],\n",
       " [4, 0, 7, 5, 2, 6, 1, 3],\n",
       " [4, 1, 3, 5, 7, 2, 0, 6],\n",
       " [4, 1, 3, 6, 2, 7, 5, 0],\n",
       " [4, 1, 5, 0, 6, 3, 7, 2],\n",
       " [4, 1, 7, 0, 3, 6, 2, 5],\n",
       " [4, 2, 0, 5, 7, 1, 3, 6],\n",
       " [4, 2, 0, 6, 1, 7, 5, 3],\n",
       " [4, 2, 7, 3, 6, 0, 5, 1],\n",
       " [4, 6, 0, 2, 7, 5, 3, 1],\n",
       " [4, 6, 0, 3, 1, 7, 5, 2],\n",
       " [4, 6, 1, 3, 7, 0, 2, 5],\n",
       " [4, 6, 1, 5, 2, 0, 3, 7],\n",
       " [4, 6, 1, 5, 2, 0, 7, 3],\n",
       " [4, 6, 3, 0, 2, 7, 5, 1],\n",
       " [4, 7, 3, 0, 2, 5, 1, 6],\n",
       " [4, 7, 3, 0, 6, 1, 5, 2],\n",
       " [5, 0, 4, 1, 7, 2, 6, 3],\n",
       " [5, 1, 6, 0, 2, 4, 7, 3],\n",
       " [5, 1, 6, 0, 3, 7, 4, 2],\n",
       " [5, 2, 0, 6, 4, 7, 1, 3],\n",
       " [5, 2, 0, 7, 3, 1, 6, 4],\n",
       " [5, 2, 0, 7, 4, 1, 3, 6],\n",
       " [5, 2, 4, 6, 0, 3, 1, 7],\n",
       " [5, 2, 4, 7, 0, 3, 1, 6],\n",
       " [5, 2, 6, 1, 3, 7, 0, 4],\n",
       " [5, 2, 6, 1, 7, 4, 0, 3],\n",
       " [5, 2, 6, 3, 0, 7, 1, 4],\n",
       " [5, 3, 0, 4, 7, 1, 6, 2],\n",
       " [5, 3, 1, 7, 4, 6, 0, 2],\n",
       " [5, 3, 6, 0, 2, 4, 1, 7],\n",
       " [5, 3, 6, 0, 7, 1, 4, 2],\n",
       " [5, 7, 1, 3, 0, 6, 4, 2],\n",
       " [6, 0, 2, 7, 5, 3, 1, 4],\n",
       " [6, 1, 3, 0, 7, 4, 2, 5],\n",
       " [6, 1, 5, 2, 0, 3, 7, 4],\n",
       " [6, 2, 0, 5, 7, 4, 1, 3],\n",
       " [6, 2, 7, 1, 4, 0, 5, 3],\n",
       " [6, 3, 1, 4, 7, 0, 2, 5],\n",
       " [6, 3, 1, 7, 5, 0, 2, 4],\n",
       " [6, 4, 2, 0, 5, 7, 1, 3],\n",
       " [7, 1, 3, 0, 6, 4, 2, 5],\n",
       " [7, 1, 4, 2, 0, 6, 3, 5],\n",
       " [7, 2, 0, 5, 1, 4, 6, 3],\n",
       " [7, 3, 0, 2, 5, 1, 6, 4]]"
      ]
     },
     "execution_count": 4,
     "metadata": {},
     "output_type": "execute_result"
    }
   ],
   "source": [
    "n=8\n",
    "Placer_reine(n)"
   ]
  },
  {
   "cell_type": "code",
   "execution_count": 5,
   "metadata": {},
   "outputs": [
    {
     "data": {
      "application/vnd.jupyter.widget-view+json": {
       "model_id": "c8ce80a56fce45e9910f247587e1f752",
       "version_major": 2,
       "version_minor": 0
      },
      "text/plain": [
       "interactive(children=(IntSlider(value=4, description='n', max=10, min=4), Output()), _dom_classes=('widget-int…"
      ]
     },
     "metadata": {},
     "output_type": "display_data"
    }
   ],
   "source": [
    "from ipywidgets import interact\n",
    "import ipywidgets as widgets\n",
    "\n",
    "interact(Placer_reine,n=widgets.IntSlider(min=4,max=10,step=1,value=1));"
   ]
  },
  {
   "cell_type": "code",
   "execution_count": 8,
   "metadata": {},
   "outputs": [
    {
     "name": "stdout",
     "output_type": "stream",
     "text": [
      "Note: you may need to restart the kernel to use updated packages.\n"
     ]
    }
   ],
   "source": [
    "pip install -r requirements.txt"
   ]
  },
  {
   "cell_type": "code",
   "execution_count": 19,
   "metadata": {},
   "outputs": [
    {
     "name": "stdout",
     "output_type": "stream",
     "text": [
      "Requirement already satisfied: watermark in c:\\users\\asus\\anaconda3\\lib\\site-packages (2.0.2)\n",
      "Requirement already satisfied: ipython in c:\\users\\asus\\anaconda3\\lib\\site-packages (from watermark) (7.16.1)\n",
      "Requirement already satisfied: prompt-toolkit!=3.0.0,!=3.0.1,<3.1.0,>=2.0.0 in c:\\users\\asus\\anaconda3\\lib\\site-packages (from ipython->watermark) (3.0.5)\n",
      "Requirement already satisfied: decorator in c:\\users\\asus\\anaconda3\\lib\\site-packages (from ipython->watermark) (4.4.2)\n",
      "Requirement already satisfied: traitlets>=4.2 in c:\\users\\asus\\anaconda3\\lib\\site-packages (from ipython->watermark) (4.3.3)\n",
      "Requirement already satisfied: colorama; sys_platform == \"win32\" in c:\\users\\asus\\anaconda3\\lib\\site-packages (from ipython->watermark) (0.4.3)\n",
      "Requirement already satisfied: setuptools>=18.5 in c:\\users\\asus\\anaconda3\\lib\\site-packages (from ipython->watermark) (49.2.0.post20200714)\n",
      "Requirement already satisfied: backcall in c:\\users\\asus\\anaconda3\\lib\\site-packages (from ipython->watermark) (0.2.0)\n",
      "Requirement already satisfied: jedi>=0.10 in c:\\users\\asus\\anaconda3\\lib\\site-packages (from ipython->watermark) (0.17.1)\n",
      "Requirement already satisfied: pickleshare in c:\\users\\asus\\anaconda3\\lib\\site-packages (from ipython->watermark) (0.7.5)\n",
      "Requirement already satisfied: pygments in c:\\users\\asus\\anaconda3\\lib\\site-packages (from ipython->watermark) (2.6.1)\n",
      "Requirement already satisfied: wcwidth in c:\\users\\asus\\anaconda3\\lib\\site-packages (from prompt-toolkit!=3.0.0,!=3.0.1,<3.1.0,>=2.0.0->ipython->watermark) (0.2.5)\n",
      "Requirement already satisfied: ipython-genutils in c:\\users\\asus\\anaconda3\\lib\\site-packages (from traitlets>=4.2->ipython->watermark) (0.2.0)\n",
      "Requirement already satisfied: six in c:\\users\\asus\\anaconda3\\lib\\site-packages (from traitlets>=4.2->ipython->watermark) (1.6.1)\n",
      "Requirement already satisfied: parso<0.8.0,>=0.7.0 in c:\\users\\asus\\anaconda3\\lib\\site-packages (from jedi>=0.10->ipython->watermark) (0.7.0)\n"
     ]
    }
   ],
   "source": [
    "! pip install watermark "
   ]
  },
  {
   "cell_type": "code",
   "execution_count": 25,
   "metadata": {},
   "outputs": [
    {
     "ename": "NameError",
     "evalue": "name 'InteractFactory' is not defined",
     "output_type": "error",
     "traceback": [
      "\u001b[1;31m---------------------------------------------------------------------------\u001b[0m",
      "\u001b[1;31mNameError\u001b[0m                                 Traceback (most recent call last)",
      "\u001b[1;32m<ipython-input-25-e8fa660bf8bb>\u001b[0m in \u001b[0;36m<module>\u001b[1;34m\u001b[0m\n\u001b[1;32m----> 1\u001b[1;33m \u001b[0mInteractFactory\u001b[0m\u001b[1;33m.\u001b[0m\u001b[0m__version__\u001b[0m\u001b[1;33m\u001b[0m\u001b[1;33m\u001b[0m\u001b[0m\n\u001b[0m",
      "\u001b[1;31mNameError\u001b[0m: name 'InteractFactory' is not defined"
     ]
    }
   ],
   "source": [
    "InteractFactory.__version__"
   ]
  },
  {
   "cell_type": "code",
   "execution_count": 26,
   "metadata": {},
   "outputs": [
    {
     "ename": "NameError",
     "evalue": "name 'permutations' is not defined",
     "output_type": "error",
     "traceback": [
      "\u001b[1;31m---------------------------------------------------------------------------\u001b[0m",
      "\u001b[1;31mNameError\u001b[0m                                 Traceback (most recent call last)",
      "\u001b[1;32m<ipython-input-26-f91c06e3ea32>\u001b[0m in \u001b[0;36m<module>\u001b[1;34m\u001b[0m\n\u001b[1;32m----> 1\u001b[1;33m \u001b[0mpermutations\u001b[0m\u001b[1;33m.\u001b[0m\u001b[0m__version__\u001b[0m\u001b[1;33m\u001b[0m\u001b[1;33m\u001b[0m\u001b[0m\n\u001b[0m",
      "\u001b[1;31mNameError\u001b[0m: name 'permutations' is not defined"
     ]
    }
   ],
   "source": [
    "permutations.__version__"
   ]
  },
  {
   "cell_type": "code",
   "execution_count": null,
   "metadata": {},
   "outputs": [],
   "source": []
  }
 ],
 "metadata": {
  "kernelspec": {
   "display_name": "Python 3",
   "language": "python",
   "name": "python3"
  },
  "language_info": {
   "codemirror_mode": {
    "name": "ipython",
    "version": 3
   },
   "file_extension": ".py",
   "mimetype": "text/x-python",
   "name": "python",
   "nbconvert_exporter": "python",
   "pygments_lexer": "ipython3",
   "version": "3.8.3"
  }
 },
 "nbformat": 4,
 "nbformat_minor": 4
}
